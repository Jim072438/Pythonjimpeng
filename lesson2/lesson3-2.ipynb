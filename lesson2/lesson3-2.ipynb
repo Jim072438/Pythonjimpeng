{
 "cells": [
  {
   "cell_type": "code",
   "execution_count": 7,
   "id": "a0d5ac23",
   "metadata": {},
   "outputs": [
    {
     "name": "stdout",
     "output_type": "stream",
     "text": [
      "11\n"
     ]
    },
    {
     "data": {
      "text/plain": [
       "11"
      ]
     },
     "execution_count": 7,
     "metadata": {},
     "output_type": "execute_result"
    }
   ],
   "source": [
    "def add_number(value1,value2):\n",
    "    return value1+value2\n",
    "result=add_number(5,6)\n",
    "print(result)\n",
    "result\n"
   ]
  },
  {
   "cell_type": "code",
   "execution_count": 16,
   "id": "c7c5a66c",
   "metadata": {},
   "outputs": [
    {
     "name": "stdout",
     "output_type": "stream",
     "text": [
      "合併並排序後的列表: [5, 10, 12, 47, 56, 70, 88, 100]\n"
     ]
    }
   ],
   "source": [
    "def merge_and_sort_lists(list1: list[int], list2: list[int]) -> list[int]:\n",
    "    merged = list1 + list2\n",
    "    merged.sort()\n",
    "    return merged\n",
    "import random\n",
    "random_list1 = [random.randint(1, 100) for _ in range(3)]\n",
    "random_list2 = [random.randint(1, 100) for _ in range(5)]\n",
    "\n",
    "merged_sorted_list = merge_and_sort_lists(random_list1, random_list2)\n",
    "print(\"合併並排序後的列表:\", merged_sorted_list)"
   ]
  }
 ],
 "metadata": {
  "kernelspec": {
   "display_name": "web_crawler",
   "language": "python",
   "name": "python3"
  },
  "language_info": {
   "codemirror_mode": {
    "name": "ipython",
    "version": 3
   },
   "file_extension": ".py",
   "mimetype": "text/x-python",
   "name": "python",
   "nbconvert_exporter": "python",
   "pygments_lexer": "ipython3",
   "version": "3.11.13"
  }
 },
 "nbformat": 4,
 "nbformat_minor": 5
}
