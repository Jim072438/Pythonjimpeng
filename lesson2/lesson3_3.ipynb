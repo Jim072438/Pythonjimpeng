{
 "cells": [
  {
   "cell_type": "code",
   "execution_count": null,
   "id": "66f4ff3b",
   "metadata": {},
   "outputs": [],
   "source": []
  },
  {
   "cell_type": "code",
   "execution_count": 9,
   "id": "271f8305",
   "metadata": {},
   "outputs": [
    {
     "ename": "TypeError",
     "evalue": "Site.__init__() missing 10 required positional arguments: 'sitename', 'county', 'aqi', 'pollutant', 'status', 'pm2_5', 'pm2_5_avg', 'latitude', 'longitude', and 'datacreationdate'",
     "output_type": "error",
     "traceback": [
      "\u001b[31m---------------------------------------------------------------------------\u001b[39m",
      "\u001b[31mTypeError\u001b[39m                                 Traceback (most recent call last)",
      "\u001b[36mCell\u001b[39m\u001b[36m \u001b[39m\u001b[32mIn[9]\u001b[39m\u001b[32m, line 29\u001b[39m\n\u001b[32m     27\u001b[39m alldate=[]\n\u001b[32m     28\u001b[39m \u001b[38;5;28;01mfor\u001b[39;00m sitename \u001b[38;5;129;01min\u001b[39;00m data[\u001b[33m'\u001b[39m\u001b[33mrecords\u001b[39m\u001b[33m'\u001b[39m]:\n\u001b[32m---> \u001b[39m\u001b[32m29\u001b[39m     s1 = \u001b[43mSite\u001b[49m\u001b[43m(\u001b[49m\u001b[43m)\u001b[49m\n\u001b[32m     30\u001b[39m     s1.sitename = sitename[\u001b[33m'\u001b[39m\u001b[33msitename\u001b[39m\u001b[33m'\u001b[39m]\n\u001b[32m     31\u001b[39m     s1.country = sitename[\u001b[33m'\u001b[39m\u001b[33mcountry\u001b[39m\u001b[33m'\u001b[39m]\n",
      "\u001b[31mTypeError\u001b[39m: Site.__init__() missing 10 required positional arguments: 'sitename', 'county', 'aqi', 'pollutant', 'status', 'pm2_5', 'pm2_5_avg', 'latitude', 'longitude', and 'datacreationdate'"
     ]
    }
   ],
   "source": [
    "import json         \n",
    "from pprint import pprint\n",
    "class Site:\n",
    "    def __init__(self,\n",
    "                 sitename,\n",
    "                 county,\n",
    "                 aqi,\n",
    "                 pollutant,\n",
    "                 status,\n",
    "                 pm2_5,\n",
    "                 pm2_5_avg,\n",
    "                 latitude,\n",
    "                 longitude,\n",
    "                 datacreationdate):      # ← 修正參數名稱\n",
    "        self.sitename = sitename\n",
    "        self.county = county\n",
    "        self.aqi = aqi\n",
    "        self.pollutant = pollutant\n",
    "        self.status = status\n",
    "        self.pm2_5 = pm2_5\n",
    "        self.pm2_5_avg = pm2_5_avg\n",
    "        self.latitude = latitude\n",
    "        self.longitude = longitude\n",
    "        self.datacreationdate = datacreationdate\n",
    "with open('aqx_p_488.json', 'r', encoding='utf-8') as file:\n",
    "    data = json.load(file)  \n",
    "alldate=[]\n",
    "for sitename in data['records']:\n",
    "    s1 = Site()\n",
    "    s1.sitename = sitename['sitename']\n",
    "    s1.country = sitename['country']\n",
    "    s1.latitude = sitename['latitude']\n",
    "    s1.longitude = sitename['longitude']\n",
    "    s1.elevation = sitename['elevation']\n",
    "    s1.state = sitename['state']\n",
    "\n",
    "    alldate.append(s1) \n",
    "for s1 in alldate: \n",
    "    print(s1.sitename, s1.country, s1.latitude, s1.longitude, s1.elevation, s1.state)"
   ]
  },
  {
   "cell_type": "code",
   "execution_count": null,
   "id": "7413d7a6",
   "metadata": {},
   "outputs": [],
   "source": []
  },
  {
   "cell_type": "code",
   "execution_count": null,
   "id": "f0599070",
   "metadata": {},
   "outputs": [],
   "source": []
  },
  {
   "cell_type": "code",
   "execution_count": null,
   "id": "1666cdfd",
   "metadata": {},
   "outputs": [],
   "source": []
  }
 ],
 "metadata": {
  "kernelspec": {
   "display_name": "web_crawler",
   "language": "python",
   "name": "python3"
  },
  "language_info": {
   "codemirror_mode": {
    "name": "ipython",
    "version": 3
   },
   "file_extension": ".py",
   "mimetype": "text/x-python",
   "name": "python",
   "nbconvert_exporter": "python",
   "pygments_lexer": "ipython3",
   "version": "3.11.13"
  }
 },
 "nbformat": 4,
 "nbformat_minor": 5
}
