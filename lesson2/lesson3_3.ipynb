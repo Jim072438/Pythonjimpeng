{
 "cells": [
  {
   "cell_type": "code",
   "execution_count": null,
   "id": "271f8305",
   "metadata": {},
   "outputs": [],
   "source": [
    "import json         \n",
    "from pprint import pprint\n",
    "with open('apq_p488.json', 'r', encoding='utf-8') as file:\n",
    "    data = json.load(file)  \n",
    "alldate=[]\n",
    "for sitename in data['records']:\n",
    "    s1 = site()\n",
    "    s1.sitename = sitename['sitename']\n",
    "    s1.country = sitename['country']\n",
    "    s1.latitude = sitename['latitude']\n",
    "    s1.longitude = sitename['longitude']\n",
    "    s1.elevation = sitename['elevation']\n",
    "    s1.state = sitename['state']\n",
    "\n",
    "    alldate.append(s1)  "
   ]
  },
  {
   "cell_type": "code",
   "execution_count": null,
   "id": "1666cdfd",
   "metadata": {},
   "outputs": [],
   "source": []
  }
 ],
 "metadata": {
  "kernelspec": {
   "display_name": "web_crawler",
   "language": "python",
   "name": "python3"
  },
  "language_info": {
   "codemirror_mode": {
    "name": "ipython",
    "version": 3
   },
   "file_extension": ".py",
   "mimetype": "text/x-python",
   "name": "python",
   "nbconvert_exporter": "python",
   "pygments_lexer": "ipython3",
   "version": "3.11.13"
  }
 },
 "nbformat": 4,
 "nbformat_minor": 5
}
