{
 "cells": [
  {
   "cell_type": "code",
   "execution_count": 1,
   "id": "ee1c2c0b",
   "metadata": {},
   "outputs": [
    {
     "name": "stdout",
     "output_type": "stream",
     "text": [
      "55\n"
     ]
    }
   ],
   "source": [
    "total=0\n",
    "for i in range(1,  11):\n",
    "    total += i\n",
    "print(total)\n",
    "\n"
   ]
  },
  {
   "cell_type": "code",
   "execution_count": 2,
   "id": "a5d51d2d",
   "metadata": {},
   "outputs": [
    {
     "name": "stdout",
     "output_type": "stream",
     "text": [
      "1\n",
      "3\n",
      "6\n",
      "10\n",
      "15\n",
      "21\n",
      "28\n",
      "36\n",
      "45\n",
      "55\n"
     ]
    }
   ],
   "source": [
    "total=0\n",
    "for i in range(1,  11):\n",
    "    total += i\n",
    "    print(total)\n"
   ]
  },
  {
   "cell_type": "code",
   "execution_count": 3,
   "id": "fbc61a9e",
   "metadata": {},
   "outputs": [
    {
     "name": "stdout",
     "output_type": "stream",
     "text": [
      "計算器:1\n",
      "計算器:2\n",
      "計算器:3\n",
      "計算器:4\n",
      "計算器:5\n"
     ]
    }
   ],
   "source": [
    "i=0\n",
    "while(True):\n",
    "    is_play=input(\"您還繼續玩嗎?(y,n)\")\n",
    "    if is_play==\"n\":\n",
    "        break\n",
    "    i +=1\n",
    "    print(f\"計算器:{i}\")"
   ]
  }
 ],
 "metadata": {
  "kernelspec": {
   "display_name": "web_crawler",
   "language": "python",
   "name": "python3"
  },
  "language_info": {
   "codemirror_mode": {
    "name": "ipython",
    "version": 3
   },
   "file_extension": ".py",
   "mimetype": "text/x-python",
   "name": "python",
   "nbconvert_exporter": "python",
   "pygments_lexer": "ipython3",
   "version": "3.11.13"
  }
 },
 "nbformat": 4,
 "nbformat_minor": 5
}
