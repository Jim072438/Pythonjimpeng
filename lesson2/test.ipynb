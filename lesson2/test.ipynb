{
 "cells": [
  {
   "cell_type": "markdown",
   "id": "c4c11c71",
   "metadata": {},
   "source": []
  },
  {
   "cell_type": "markdown",
   "id": "b781875c",
   "metadata": {},
   "source": []
  },
  {
   "cell_type": "markdown",
   "id": "84cb2292",
   "metadata": {},
   "source": []
  }
 ],
 "metadata": {
  "kernelspec": {
   "display_name": "web_crawler",
   "language": "python",
   "name": "python3"
  },
  "language_info": {
   "name": "python",
   "version": "3.11.13"
  }
 },
 "nbformat": 4,
 "nbformat_minor": 5
}
