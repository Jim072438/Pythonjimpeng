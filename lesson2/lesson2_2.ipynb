{
 "cells": [
  {
   "cell_type": "markdown",
   "id": "fad7da3b",
   "metadata": {},
   "source": [
    "#### python 基礎"
   ]
  },
  {
   "cell_type": "code",
   "execution_count": 1,
   "id": "c0bab414",
   "metadata": {},
   "outputs": [
    {
     "name": "stdout",
     "output_type": "stream",
     "text": [
      "hello python!\n"
     ]
    }
   ],
   "source": [
    "print(\"hello python!\")"
   ]
  },
  {
   "cell_type": "code",
   "execution_count": 3,
   "id": "a86f702b",
   "metadata": {},
   "outputs": [
    {
     "name": "stdout",
     "output_type": "stream",
     "text": [
      "alice\n",
      "25\n",
      "1.65\n",
      "True\n"
     ]
    }
   ],
   "source": [
    "name = \"alice\"\n",
    "age = 25\n",
    "height = 1.65\n",
    "is_student = True\n",
    "\n",
    "print(name)\n",
    "print(age)\n",
    "print(height)\n",
    "print(is_student)\n",
    "      "
   ]
  },
  {
   "cell_type": "code",
   "execution_count": 2,
   "id": "7487b65a",
   "metadata": {},
   "outputs": [
    {
     "name": "stdout",
     "output_type": "stream",
     "text": [
      "總和是:15\n"
     ]
    }
   ],
   "source": [
    "a=10\n",
    "b=5\n",
    "sum_result=a+b\n",
    "print(\"總和是:\", sum_result, sep=\"\")"
   ]
  },
  {
   "cell_type": "code",
   "execution_count": 3,
   "id": "a9e887cd",
   "metadata": {},
   "outputs": [
    {
     "name": "stdout",
     "output_type": "stream",
     "text": [
      "100000\n"
     ]
    }
   ],
   "source": [
    "a=10\n",
    "b=5\n",
    "print(a**b)"
   ]
  },
  {
   "cell_type": "code",
   "execution_count": 10,
   "id": "fc3bfeba",
   "metadata": {},
   "outputs": [
    {
     "name": "stdout",
     "output_type": "stream",
     "text": [
      "hello_python,sep=?"
     ]
    }
   ],
   "source": [
    "print(\"hello_python,sep=\",end=\"?\")"
   ]
  },
  {
   "cell_type": "code",
   "execution_count": 12,
   "id": "6fcce444",
   "metadata": {},
   "outputs": [
    {
     "name": "stdout",
     "output_type": "stream",
     "text": [
      "3.141592653589793\n"
     ]
    }
   ],
   "source": [
    "import math\n",
    "print(math.pi)\n"
   ]
  },
  {
   "cell_type": "code",
   "execution_count": 21,
   "id": "5477de0f",
   "metadata": {},
   "outputs": [
    {
     "name": "stdout",
     "output_type": "stream",
     "text": [
      "下載成功\n",
      "('[{\"id\":\"51913656090\",\"type\":\"PushEvent\",\"actor\":{\"id\":49699333,\"login\":\"dependabot[bot]\",\"display_login\":\"dependabot\",\"gravatar_id\":\"\",\"url\":\"https://api.github.com/users/dependabot[bot]\",\"avatar_url\":\"https://avatars.githubusercontent.com/u/49699333?\"},\"repo\":{\"id\":822433533,\"name\":\"engity-com/bifroest\",\"url\":\"https://api.github.com/repos/engity-com/bifroest\"},\"payload\":{\"repository_id\":822433533,\"push_id\":25407907205,\"size\":2,\"distinct_size\":1,\"ref\":\"refs/heads/dependabot/go_modules/golang.org/x/sys-0.34.0\",\"head\":\"2d189dc9f6827d800765eb64e1a11734502e4a92\",\"before\":\"f1b7ffdad1cda9224c867bf23aab7ff247186070\",\"commits\":[{\"sha\":\"58c62c8cfc802ed2d93c4ba28c67d7c7f1e946fc\",\"author\":{\"email\":\"49699333+dependabot[bot]@users.noreply.github.com\",\"name\":\"dependabot[bot]\"},\"message\":\"Bump '\n",
      " 'github.com/Masterminds/semver/v3 from 3.3.1 to 3.4.0 '\n",
      " '(#176)\\\\n\\\\nSigned-off-by: dependabot[bot] '\n",
      " '<support@github.com>\\\\nCo-authored-by: dependabot[bot] '\n",
      " '<49699333+dependabot[bot]@users.noreply.github.com>\",\"distinct\":false,\"url\":\"https://api.github.com/repos/engity-com/bifroest/commits/58c62c8cfc802ed2d93c4ba28c67d7c7f1e946fc\"},{\"sha\":\"2d189dc9f6827d800765eb64e1a11734502e4a92\",\"author\":{\"email\":\"49699333+dependabot[bot]@users.noreply.github.com\",\"name\":\"dependabot[bot]\"},\"message\":\"Bump '\n",
      " 'golang.org/x/sys from 0.33.0 to 0.34.0\\\\n\\\\nBumps '\n",
      " '[golang.org/x/sys](https://github.com/golang/sys) from 0.33.0 to 0.34.0.\\\\n- '\n",
      " '[Commits](https://github.com/golang/sys/compare/v0.33.0...v0.34.0)\\\\n\\\\n---\\\\nupdated-dependencies:\\\\n- '\n",
      " 'dependency-name: golang.org/x/sys\\\\n  dependency-version: 0.34.0\\\\n  '\n",
      " 'dependency-type: direct:production\\\\n  update-type: '\n",
      " 'version-update:semver-minor\\\\n...\\\\n\\\\nSigned-off-by: dependabot[bot] '\n",
      " '<support@github.com>\",\"distinct\":true,\"url\":\"https://api.github.com/repos/engity-com/bifroest/commits/2d189dc9f6827d800765eb64e1a11734502e4a92\"}]},\"public\":true,\"created_at\":\"2025-07-10T07:44:26Z\",\"org\":{\"id\":95974183,\"login\":\"engity-com\",\"gravatar_id\":\"\",\"url\":\"https://api.github.com/orgs/engity-com\",\"avatar_url\":\"https://avatars.githubusercontent.com/u/95974183?\"}},{\"id\":\"51913656098\",\"type\":\"CreateEvent\",\"actor\":{\"id\":1474479,\"login\":\"chenhunghan\",\"display_login\":\"chenhunghan\",\"gravatar_id\":\"\",\"url\":\"https://api.github.com/users/chenhunghan\",\"avatar_url\":\"https://avatars.githubusercontent.com/u/1474479?\"},\"repo\":{\"id\":355854526,\"name\":\"lensapp/lens-platform-sdk\",\"url\":\"https://api.github.com/repos/lensapp/lens-platform-sdk\"},\"payload\":{\"ref\":\"fix/caught-422\",\"ref_type\":\"branch\",\"master_branch\":\"main\",\"description\":\"Lens '\n",
      " 'Platform Client '\n",
      " 'SDK\",\"pusher_type\":\"user\"},\"public\":true,\"created_at\":\"2025-07-10T07:44:26Z\",\"org\":{\"id\":62133242,\"login\":\"lensapp\",\"gravatar_id\":\"\",\"url\":\"https://api.github.com/orgs/lensapp\",\"avatar_url\":\"https://avatars.githubusercontent.com/u/62133242?\"}},{\"id\":\"51913656102\",\"type\":\"PushEvent\",\"actor\":{\"id\":189466091,\"login\":\"devMohamed-Hassan\",\"display_login\":\"devMohamed-Hassan\",\"gravatar_id\":\"\",\"url\":\"https://api.github.com/users/devMohamed-Hassan\",\"avatar_url\":\"https://avatars.githubusercontent.com/u/189466091?\"},\"repo\":{\"id\":1011546078,\"name\":\"devMohamed-Hassan/Fresh-Cart\",\"url\":\"https://api.github.com/repos/devMohamed-Hassan/Fresh-Cart\"},\"payload\":{\"repository_id\":1011546078,\"push_id\":25407907256,\"size\":1,\"distinct_size\":1,\"ref\":\"refs/heads/main\",\"head\":\"58ee23d0eb712a96e733d64a5292516279451349\",\"before\":\"9b3abcfaee9e607318814547841ef26446f8ba62\",\"commits\":[{\"sha\":\"58ee23d0eb712a96e733d64a5292516279451349\",\"author\":{\"email\":\"mohamed.h.ismael@gmail.com\",\"name\":\"Mohamed '\n",
      " 'Hassan\"},\"message\":\"feat: update loader '\n",
      " 'behavior\",\"distinct\":true,\"url\":\"https://api.github.com/repos/devMohamed-Hassan/Fresh-Cart/commits/58ee23d0eb712a96e733d64a5292516279451349\"}]},\"public\":true,\"created_at\":\"2025-07-10T07:44:26Z\"},{\"id\":\"51913656105\",\"type\":\"PushEvent\",\"actor\":{\"id\":104660922,\"login\":\"aws-aemilia-pdx\",\"display_login\":\"aws-aemilia-pdx\",\"gravatar_id\":\"\",\"url\":\"https://api.github.com/users/aws-aemilia-pdx\",\"avatar_url\":\"https://avatars.githubusercontent.com/u/104660922?\"},\"repo\":{\"id\":932358128,\"name\":\"aws-aemilia-pdx/Github-PR-Commit-Integration-Test-DoNotTouch-GitHubWebhookBackwardsPushCanaryTest-v1-beta-us-west-2\",\"url\":\"https://api.github.com/repos/aws-aemilia-pdx/Github-PR-Commit-Integration-Test-DoNotTouch-GitHubWebhookBackwardsPushCanaryTest-v1-beta-us-west-2\"},\"payload\":{\"repository_id\":932358128,\"push_id\":25407907308,\"size\":1,\"distinct_size\":1,\"ref\":\"refs/heads/main\",\"head\":\"a7dd88f31cdef2abf693df520e46e55019651709\",\"before\":\"a677b2e82b9d48fa83d2219eef7ff4dfdf483347\",\"commits\":[{\"sha\":\"a7dd88f31cdef2abf693df520e46e55019651709\",\"author\":{\"email\":\"104660922+aws-aemilia-pdx@users.noreply.github.com\",\"name\":\"aws-aemilia-pdx\"},\"message\":\"commit '\n",
      " 'from integ '\n",
      " 'tests\",\"distinct\":true,\"url\":\"https://api.github.com/repos/aws-aemilia-pdx/Github-PR-Commit-Integration-Test-DoNotTouch-GitHubWebhookBackwardsPushCanaryTest-v1-beta-us-west-2/commits/a7dd88f31cdef2abf693df520e46e55019651709\"}]},\"public\":true,\"created_at\":\"2025-07-10T07:44:26Z\"},{\"id\":\"51913656114\",\"type\":\"CreateEvent\",\"actor\":{\"id\":120211610,\"login\":\"vikasch123\",\"display_login\":\"vikasch123\",\"gravatar_id\":\"\",\"url\":\"https://api.github.com/users/vikasch123\",\"avatar_url\":\"https://avatars.githubusercontent.com/u/120211610?\"},\"repo\":{\"id\":1017202543,\"name\":\"vikasch123/Parking_Lot\",\"url\":\"https://api.github.com/repos/vikasch123/Parking_Lot\"},\"payload\":{\"ref\":\"main\",\"ref_type\":\"branch\",\"master_branch\":\"main\",\"description\":null,\"pusher_type\":\"user\"},\"public\":true,\"created_at\":\"2025-07-10T07:44:26Z\"},{\"id\":\"51913656106\",\"type\":\"WatchEvent\",\"actor\":{\"id\":146985878,\"login\":\"drkTwoTwo\",\"display_login\":\"drkTwoTwo\",\"gravatar_id\":\"\",\"url\":\"https://api.github.com/users/drkTwoTwo\",\"avatar_url\":\"https://avatars.githubusercontent.com/u/146985878?\"},\"repo\":{\"id\":952328364,\"name\":\"drkTwoTwo/NearToYou\",\"url\":\"https://api.github.com/repos/drkTwoTwo/NearToYou\"},\"payload\":{\"action\":\"started\"},\"public\":true,\"created_at\":\"2025-07-10T07:44:26Z\"},{\"id\":\"51913656060\",\"type\":\"PushEvent\",\"actor\":{\"id\":83385932,\"login\":\"Priyadharshini0101\",\"display_login\":\"Priyadharshini0101\",\"gravatar_id\":\"\",\"url\":\"https://api.github.com/users/Priyadharshini0101\",\"avatar_url\":\"https://avatars.githubusercontent.com/u/83385932?\"},\"repo\":{\"id\":966999583,\"name\":\"Priyadharshini0101/dottie\",\"url\":\"https://api.github.com/repos/Priyadharshini0101/dottie\"},\"payload\":{\"repository_id\":966999583,\"push_id\":25407907214,\"size\":2,\"distinct_size\":0,\"ref\":\"refs/heads/main\",\"head\":\"595f624042b4e501b36d2b45c4c314efb95c47ed\",\"before\":\"ff334027b8d086acfc766965060a6c4d1e9b035e\",\"commits\":[{\"sha\":\"235695b2ac79de8ff11c00cd81e6a8083481a33f\",\"author\":{\"email\":\"lmcrean@gmail.com\",\"name\":\"Your '\n",
      " 'Name\"},\"message\":\"Remove broken Vercel deployment workflow file, eliminating '\n",
      " 'redundancy in deployment '\n",
      " 'configurations.\",\"distinct\":false,\"url\":\"https://api.github.com/repos/Priyadharshini0101/dottie/commits/235695b2ac79de8ff11c00cd81e6a8083481a33f\"},{\"sha\":\"595f624042b4e501b36d2b45c4c314efb95c47ed\",\"author\":{\"email\":\"133490867+lmcrean@users.noreply.github.com\",\"name\":\"Laurie '\n",
      " 'C\"},\"message\":\"Remove broken Vercel deployment workflow file, eliminating '\n",
      " 'redundancy in deployment configurations. '\n",
      " '(#398)\",\"distinct\":false,\"url\":\"https://api.github.com/repos/Priyadharshini0101/dottie/commits/595f624042b4e501b36d2b45c4c314efb95c47ed\"}]},\"public\":true,\"created_at\":\"2025-07-10T07:44:26Z\"},{\"id\":\"51913656030\",\"type\":\"PushEvent\",\"actor\":{\"id\":86245599,\"login\":\"MuhammadFirgan\",\"display_login\":\"MuhammadFirgan\",\"gravatar_id\":\"\",\"url\":\"https://api.github.com/users/MuhammadFirgan\",\"avatar_url\":\"https://avatars.githubusercontent.com/u/86245599?\"},\"repo\":{\"id\":1013863080,\"name\":\"MuhammadFirgan/backend-mutiaralab\",\"url\":\"https://api.github.com/repos/MuhammadFirgan/backend-mutiaralab\"},\"payload\":{\"repository_id\":1013863080,\"push_id\":25407907207,\"size\":1,\"distinct_size\":1,\"ref\":\"refs/heads/dev\",\"head\":\"69b6059c393be0fa4ecf4b3ae6902d70b75c718b\",\"before\":\"6b04be9f0c737ea99e79adfce854e5dc3e21a652\",\"commits\":[{\"sha\":\"69b6059c393be0fa4ecf4b3ae6902d70b75c718b\",\"author\":{\"email\":\"antarcticpx@gmail.com\",\"name\":\"Antarcticpx\"},\"message\":\"fix '\n",
      " ': fixed some issues in '\n",
      " 'sampling\",\"distinct\":true,\"url\":\"https://api.github.com/repos/MuhammadFirgan/backend-mutiaralab/commits/69b6059c393be0fa4ecf4b3ae6902d70b75c718b\"}]},\"public\":true,\"created_at\":\"2025-07-10T07:44:26Z\"},{\"id\":\"51913656064\",\"type\":\"PushEvent\",\"actor\":{\"id\":122885970,\"login\":\"devlinuskibet\",\"display_login\":\"devlinuskibet\",\"gravatar_id\":\"\",\"url\":\"https://api.github.com/users/devlinuskibet\",\"avatar_url\":\"https://avatars.githubusercontent.com/u/122885970?\"},\"repo\":{\"id\":1017208614,\"name\":\"devlinuskibet/mut-chatbot\",\"url\":\"https://api.github.com/repos/devlinuskibet/mut-chatbot\"},\"payload\":{\"repository_id\":1017208614,\"push_id\":25407907257,\"size\":1,\"distinct_size\":1,\"ref\":\"refs/heads/main\",\"head\":\"0a81cf54bd67460b9bbc32a94b76b08b4e067e8f\",\"before\":\"a3f86c76586ff441342b5268840d94d23ab5464a\",\"commits\":[{\"sha\":\"0a81cf54bd67460b9bbc32a94b76b08b4e067e8f\",\"author\":{\"email\":\"122885970+devlinuskibet@users.noreply.github.com\",\"name\":\"LINUS '\n",
      " 'KIBET\"},\"message\":\"Create '\n",
      " 'README.md\",\"distinct\":true,\"url\":\"https://api.github.com/repos/devlinuskibet/mut-chatbot/commits/0a81cf54bd67460b9bbc32a94b76b08b4e067e8f\"}]},\"public\":true,\"created_at\":\"2025-07-10T07:44:26Z\"},{\"id\":\"51913656033\",\"type\":\"PushEvent\",\"actor\":{\"id\":177311845,\"login\":\"andreylapko1\",\"display_login\":\"andreylapko1\",\"gravatar_id\":\"\",\"url\":\"https://api.github.com/users/andreylapko1\",\"avatar_url\":\"https://avatars.githubusercontent.com/u/177311845?\"},\"repo\":{\"id\":1011136386,\"name\":\"andreylapko1/blog_platform\",\"url\":\"https://api.github.com/repos/andreylapko1/blog_platform\"},\"payload\":{\"repository_id\":1011136386,\"push_id\":25407907259,\"size\":1,\"distinct_size\":1,\"ref\":\"refs/heads/dev\",\"head\":\"1c082e5b8451ae03cbc200bbd6b6ddbf32b06566\",\"before\":\"c21475512fe35ef9cab2ee17237eb6ba2abc13cb\",\"commits\":[{\"sha\":\"1c082e5b8451ae03cbc200bbd6b6ddbf32b06566\",\"author\":{\"email\":\"trainee@gmail.com\",\"name\":\"trainee\"},\"message\":\"add '\n",
      " 'pagination\",\"distinct\":true,\"url\":\"https://api.github.com/repos/andreylapko1/blog_platform/commits/1c082e5b8451ae03cbc200bbd6b6ddbf32b06566\"}]},\"public\":true,\"created_at\":\"2025-07-10T07:44:26Z\"},{\"id\":\"51913656034\",\"type\":\"ReleaseEvent\",\"actor\":{\"id\":41898282,\"login\":\"github-actions[bot]\",\"display_login\":\"github-actions\",\"gravatar_id\":\"\",\"url\":\"https://api.github.com/users/github-actions[bot]\",\"avatar_url\":\"https://avatars.githubusercontent.com/u/41898282?\"},\"repo\":{\"id\":1004495932,\"name\":\"SrWither/OpenSpeedRun\",\"url\":\"https://api.github.com/repos/SrWither/OpenSpeedRun\"},\"payload\":{\"action\":\"published\",\"release\":{\"url\":\"https://api.github.com/repos/SrWither/OpenSpeedRun/releases/231364624\",\"assets_url\":\"https://api.github.com/repos/SrWither/OpenSpeedRun/releases/231364624/assets\",\"upload_url\":\"https://uploads.github.com/repos/SrWither/OpenSpeedRun/releases/231364624/assets{?name,label}\",\"html_url\":\"https://github.com/SrWither/OpenSpeedRun/releases/tag/v0.2.1\",\"id\":231364624,\"author\":{\"login\":\"github-actions[bot]\",\"id\":41898282,\"node_id\":\"MDM6Qm90NDE4OTgyODI=\",\"avatar_url\":\"https://avatars.githubusercontent.com/in/15368?v=4\",\"gravatar_id\":\"\",\"url\":\"https://api.github.com/users/github-actions%5Bbot%5D\",\"html_url\":\"https://github.com/apps/github-actions\",\"followers_url\":\"https://api.github.com/users/github-actions%5Bbot%5D/followers\",\"following_url\":\"https://api.github.com/users/github-actions%5Bbot%5D/following{/other_user}\",\"gists_url\":\"https://api.github.com/users/github-actions%5Bbot%5D/gists{/gist_id}\",\"starred_url\":\"https://api.github.com/users/github-actions%5Bbot%5D/starred{/owner}{/repo}\",\"subscriptions_url\":\"https://api.github.com/users/github-actions%5Bbot%5D/subscriptions\",\"organizations_url\":\"https://api.github.com/users/github-actions%5Bbot%5D/orgs\",\"repos_url\":\"https://api.github.com/users/github-actions%5Bbot%5D/repos\",\"events_url\":\"https://api.github.com/users/github-actions%5Bbot%5D/events{/privacy}\",\"received_events_url\":\"https://api.github.com/users/github-actions%5Bbot%5D/received_events\",\"type\":\"Bot\",\"user_view_type\":\"public\",\"site_admin\":false},\"node_id\":\"RE_kwDOO99kPM4NylgQ\",\"tag_name\":\"v0.2.1\",\"target_commitish\":\"master\",\"name\":\"v0.2.1\",\"draft\":false,\"immutable\":false,\"prerelease\":false,\"created_at\":\"2025-07-10T07:38:00Z\",\"published_at\":\"2025-07-10T07:44:25Z\",\"assets\":[],\"tarball_url\":\"https://api.github.com/repos/SrWither/OpenSpeedRun/tarball/v0.2.1\",\"zipball_url\":\"https://api.github.com/repos/SrWither/OpenSpeedRun/zipball/v0.2.1\",\"body\":\"\",\"short_description_html\":\"\",\"is_short_description_html_truncated\":false}},\"public\":true,\"created_at\":\"2025-07-10T07:44:26Z\"},{\"id\":\"51913656047\",\"type\":\"PushEvent\",\"actor\":{\"id\":76770370,\"login\":\"shihao-hub\",\"display_login\":\"shihao-hub\",\"gravatar_id\":\"\",\"url\":\"https://api.github.com/users/shihao-hub\",\"avatar_url\":\"https://avatars.githubusercontent.com/u/76770370?\"},\"repo\":{\"id\":1007914343,\"name\":\"shihao-hub/python_web_development\",\"url\":\"https://api.github.com/repos/shihao-hub/python_web_development\"},\"payload\":{\"repository_id\":1007914343,\"push_id\":25407907310,\"size\":1,\"distinct_size\":1,\"ref\":\"refs/heads/main\",\"head\":\"e9397063750c58bbdfd9cb83f40e9b1aefdb0604\",\"before\":\"28a1667b2dd825c90a46bbec89023d9c8925f11f\",\"commits\":[{\"sha\":\"e9397063750c58bbdfd9cb83f40e9b1aefdb0604\",\"author\":{\"email\":\"76770370+shihao-hub@users.noreply.github.com\",\"name\":\"shihao-hub\"},\"message\":\"Update '\n",
      " 'app2.py\",\"distinct\":true,\"url\":\"https://api.github.com/repos/shihao-hub/python_web_development/commits/e9397063750c58bbdfd9cb83f40e9b1aefdb0604\"}]},\"public\":true,\"created_at\":\"2025-07-10T07:44:26Z\"},{\"id\":\"51913656026\",\"type\":\"ForkEvent\",\"actor\":{\"id\":3983204,\"login\":\"stwflyfox\",\"display_login\":\"stwflyfox\",\"gravatar_id\":\"\",\"url\":\"https://api.github.com/users/stwflyfox\",\"avatar_url\":\"https://avatars.githubusercontent.com/u/3983204?\"},\"repo\":{\"id\":436877250,\"name\":\"jevonsflash/maui-vue-hybirddev\",\"url\":\"https://api.github.com/repos/jevonsflash/maui-vue-hybirddev\"},\"payload\":{\"forkee\":{\"id\":1017215707,\"node_id\":\"R_kgDOPKF62w\",\"name\":\"maui-vue-hybirddev\",\"full_name\":\"stwflyfox/maui-vue-hybirddev\",\"private\":false,\"owner\":{\"login\":\"stwflyfox\",\"id\":3983204,\"node_id\":\"MDQ6VXNlcjM5ODMyMDQ=\",\"avatar_url\":\"https://avatars.githubusercontent.com/u/3983204?v=4\",\"gravatar_id\":\"\",\"url\":\"https://api.github.com/users/stwflyfox\",\"html_url\":\"https://github.com/stwflyfox\",\"followers_url\":\"https://api.github.com/users/stwflyfox/followers\",\"following_url\":\"https://api.github.com/users/stwflyfox/following{/other_user}\",\"gists_url\":\"https://api.github.com/users/stwflyfox/gists{/gist_id}\",\"starred_url\":\"https://api.github.com/users/stwflyfox/starred{/owner}{/repo}\",\"subscriptions_url\":\"https://api.github.com/users/stwflyfox/subscriptions\",\"organizations_url\":\"https://api.github.com/users/stwflyfox/orgs\",\"repos_url\":\"https://api.github.com/users/stwflyfox/repos\",\"events_url\":\"https://api.github.com/users/stwflyfox/events{/privacy}\",\"received_events_url\":\"https://api.github.com/users/stwflyfox/received_events\",\"type\":\"User\",\"user_view_type\":\"public\",\"site_admin\":false},\"html_url\":\"https://github.com/stwflyfox/maui-vue-hybirddev\",\"description\":\".NET '\n",
      " 'MAUI Blazor 与 Vue '\n",
      " '混合开发的代码示例\",\"fork\":true,\"url\":\"https://api.github.com/repos/stwflyfox/maui-vue-hybirddev\",\"forks_url\":\"https://api.github.com/repos/stwflyfox/maui-vue-hybirddev/forks\",\"keys_url\":\"https://api.github.com/repos/stwflyfox/maui-vue-hybirddev/keys{/key_id}\",\"collaborators_url\":\"https://api.github.com/repos/stwflyfox/maui-vue-hybirddev/collaborators{/collaborator}\",\"teams_url\":\"https://api.github.com/repos/stwflyfox/maui-vue-hybirddev/teams\",\"hooks_url\":\"https://api.github.com/repos/stwflyfox/maui-vue-hybirddev/hooks\",\"issue_events_url\":\"https://api.github.com/repos/stwflyfox/maui-vue-hybirddev/issues/events{/number}\",\"events_url\":\"https://api.github.com/repos/stwflyfox/maui-vue-hybirddev/events\",\"assignees_url\":\"https://api.github.com/repos/stwflyfox/maui-vue-hybirddev/assignees{/user}\",\"branches_url\":\"https://api.github.com/repos/stwflyfox/maui-vue-hybirddev/branches{/branch}\",\"tags_url\":\"https://api.github.com/repos/stwflyfox/maui-vue-hybirddev/tags\",\"blobs_url\":\"https://api.github.com/repos/stwflyfox/maui-vue-hybirddev/git/blobs{/sha}\",\"git_tags_url\":\"https://api.github.com/repos/stwflyfox/maui-vue-hybirddev/git/tags{/sha}\",\"git_refs_url\":\"https://api.github.com/repos/stwflyfox/maui-vue-hybirddev/git/refs{/sha}\",\"trees_url\":\"https://api.github.com/repos/stwflyfox/maui-vue-hybirddev/git/trees{/sha}\",\"statuses_url\":\"https://api.github.com/repos/stwflyfox/maui-vue-hybirddev/statuses/{sha}\",\"languages_url\":\"https://api.github.com/repos/stwflyfox/maui-vue-hybirddev/languages\",\"stargazers_url\":\"https://api.github.com/repos/stwflyfox/maui-vue-hybirddev/stargazers\",\"contributors_url\":\"https://api.github.com/repos/stwflyfox/maui-vue-hybirddev/contributors\",\"subscribers_url\":\"https://api.github.com/repos/stwflyfox/maui-vue-hybirddev/subscribers\",\"subscription_url\":\"https://api.github.com/repos/stwflyfox/maui-vue-hybirddev/subscription\",\"commits_url\":\"https://api.github.com/repos/stwflyfox/maui-vue-hybirddev/commits{/sha}\",\"git_commits_url\":\"https://api.github.com/repos/stwflyfox/maui-vue-hybirddev/git/commits{/sha}\",\"comments_url\":\"https://api.github.com/repos/stwflyfox/maui-vue-hybirddev/comments{/number}\",\"issue_comment_url\":\"https://api.github.com/repos/stwflyfox/maui-vue-hybirddev/issues/comments{/number}\",\"contents_url\":\"https://api.github.com/repos/stwflyfox/maui-vue-hybirddev/contents/{+path}\",\"compare_url\":\"https://api.github.com/repos/stwflyfox/maui-vue-hybirddev/compare/{base}...{head}\",\"merges_url\":\"https://api.github.com/repos/stwflyfox/maui-vue-hybirddev/merges\",\"archive_url\":\"https://api.github.com/repos/stwflyfox/maui-vue-hybirddev/{archive_format}{/ref}\",\"downloads_url\":\"https://api.github.com/repos/stwflyfox/maui-vue-hybirddev/downloads\",\"issues_url\":\"https://api.github.com/repos/stwflyfox/maui-vue-hybirddev/issues{/number}\",\"pulls_url\":\"https://api.github.com/repos/stwflyfox/maui-vue-hybirddev/pulls{/number}\",\"milestones_url\":\"https://api.github.com/repos/stwflyfox/maui-vue-hybirddev/milestones{/number}\",\"notifications_url\":\"https://api.github.com/repos/stwflyfox/maui-vue-hybirddev/notifications{?since,all,participating}\",\"labels_url\":\"https://api.github.com/repos/stwflyfox/maui-vue-hybirddev/labels{/name}\",\"releases_url\":\"https://api.github.com/repos/stwflyfox/maui-vue-hybirddev/releases{/id}\",\"deployments_url\":\"https://api.github.com/repos/stwflyfox/maui-vue-hybirddev/deployments\",\"created_at\":\"2025-07-10T07:44:25Z\",\"updated_at\":\"2025-07-10T07:44:25Z\",\"pushed_at\":\"2023-10-18T10:37:04Z\",\"git_url\":\"git://github.com/stwflyfox/maui-vue-hybirddev.git\",\"ssh_url\":\"git@github.com:stwflyfox/maui-vue-hybirddev.git\",\"clone_url\":\"https://github.com/stwflyfox/maui-vue-hybirddev.git\",\"svn_url\":\"https://github.com/stwflyfox/maui-vue-hybirddev\",\"homepage\":\"https://blog.csdn.net/jevonsflash\",\"size\":55991,\"stargazers_count\":0,\"watchers_count\":0,\"language\":null,\"has_issues\":false,\"has_projects\":true,\"has_downloads\":true,\"has_wiki\":true,\"has_pages\":false,\"has_discussions\":false,\"forks_count\":0,\"mirror_url\":null,\"archived\":false,\"disabled\":false,\"open_issues_count\":0,\"license\":null,\"allow_forking\":true,\"is_template\":false,\"web_commit_signoff_required\":false,\"topics\":[],\"visibility\":\"public\",\"forks\":0,\"open_issues\":0,\"watchers\":0,\"default_branch\":\"main\",\"public\":true}},\"public\":true,\"created_at\":\"2025-07-10T07:44:26Z\"},{\"id\":\"51913656006\",\"type\":\"ForkEvent\",\"actor\":{\"id\":54299473,\"login\":\"TankGuHan\",\"display_login\":\"TankGuHan\",\"gravatar_id\":\"\",\"url\":\"https://api.github.com/users/TankGuHan\",\"avatar_url\":\"https://avatars.githubusercontent.com/u/54299473?\"},\"repo\":{\"id\":17514344,\"name\":\"Rokobokode/websocket-sharp-unity\",\"url\":\"https://api.github.com/repos/Rokobokode/websocket-sharp-unity\"},\"payload\":{\"forkee\":{\"id\":1017215706,\"node_id\":\"R_kgDOPKF62g\",\"name\":\"websocket-sharp-unity\",\"full_name\":\"TankGuHan/websocket-sharp-unity\",\"private\":false,\"owner\":{\"login\":\"TankGuHan\",\"id\":54299473,\"node_id\":\"MDQ6VXNlcjU0Mjk5NDcz\",\"avatar_url\":\"https://avatars.githubusercontent.com/u/54299473?v=4\",\"gravatar_id\":\"\",\"url\":\"https://api.github.com/users/TankGuHan\",\"html_url\":\"https://github.com/TankGuHan\",\"followers_url\":\"https://api.github.com/users/TankGuHan/followers\",\"following_url\":\"https://api.github.com/users/TankGuHan/following{/other_user}\",\"gists_url\":\"https://api.github.com/users/TankGuHan/gists{/gist_id}\",\"starred_url\":\"https://api.github.com/users/TankGuHan/starred{/owner}{/repo}\",\"subscriptions_url\":\"https://api.github.com/users/TankGuHan/subscriptions\",\"organizations_url\":\"https://api.github.com/users/TankGuHan/orgs\",\"repos_url\":\"https://api.github.com/users/TankGuHan/repos\",\"events_url\":\"https://api.github.com/users/TankGuHan/events{/privacy}\",\"received_events_url\":\"https://api.github.com/users/TankGuHan/received_events\",\"type\":\"User\",\"user_view_type\":\"public\",\"site_admin\":false},\"html_url\":\"https://github.com/TankGuHan/websocket-sharp-unity\",\"description\":\"一个基于 '\n",
      " 'C# 实现的 WebSocket 协议客户端。新增了对 Unity '\n",
      " '的支持。\",\"fork\":true,\"url\":\"https://api.github.com/repos/TankGuHan/websocket-sharp-unity\",\"forks_url\":\"https://api.github.com/repos/TankGuHan/websocket-sharp-unity/forks\",\"keys_url\":\"https://api.github.com/repos/TankGuHan/websocket-sharp-unity/keys{/key_id}\",\"collaborators_url\":\"https://api.github.com/repos/TankGuHan/websocket-sharp-unity/collaborators{/collaborator}\",\"teams_url\":\"https://api.github.com/repos/TankGuHan/websocket-sharp-unity/teams\",\"hooks_url\":\"https://api.github.com/repos/TankGuHan/websocket-sharp-unity/hooks\",\"issue_events_url\":\"https://api.github.com/repos/TankGuHan/websocket-sharp-unity/issues/events{/number}\",\"events_url\":\"https://api.github.com/repos/TankGuHan/websocket-sharp-unity/events\",\"assignees_url\":\"https://api.github.com/repos/TankGuHan/websocket-sharp-unity/assignees{/user}\",\"branches_url\":\"https://api.github.com/repos/TankGuHan/websocket-sharp-unity/branches{/branch}\",\"tags_url\":\"https://api.github.com/repos/TankGuHan/websocket-sharp-unity/tags\",\"blobs_url\":\"https://api.github.com/repos/TankGuHan/websocket-sharp-unity/git/blobs{/sha}\",\"git_tags_url\":\"https://api.github.com/repos/TankGuHan/websocket-sharp-unity/git/tags{/sha}\",\"git_refs_url\":\"https://api.github.com/repos/TankGuHan/websocket-sharp-unity/git/refs{/sha}\",\"trees_url\":\"https://api.github.com/repos/TankGuHan/websocket-sharp-unity/git/trees{/sha}\",\"statuses_url\":\"https://api.github.com/repos/TankGuHan/websocket-sharp-unity/statuses/{sha}\",\"languages_url\":\"https://api.github.com/repos/TankGuHan/websocket-sharp-unity/languages\",\"stargazers_url\":\"https://api.github.com/repos/TankGuHan/websocket-sharp-unity/stargazers\",\"contributors_url\":\"https://api.github.com/repos/TankGuHan/websocket-sharp-unity/contributors\",\"subscribers_url\":\"https://api.github.com/repos/TankGuHan/websocket-sharp-unity/subscribers\",\"subscription_url\":\"https://api.github.com/repos/TankGuHan/websocket-sharp-unity/subscription\",\"commits_url\":\"https://api.github.com/repos/TankGuHan/websocket-sharp-unity/commits{/sha}\",\"git_commits_url\":\"https://api.github.com/repos/TankGuHan/websocket-sharp-unity/git/commits{/sha}\",\"comments_url\":\"https://api.github.com/repos/TankGuHan/websocket-sharp-unity/comments{/number}\",\"issue_comment_url\":\"https://api.github.com/repos/TankGuHan/websocket-sharp-unity/issues/comments{/number}\",\"contents_url\":\"https://api.github.com/repos/TankGuHan/websocket-sharp-unity/contents/{+path}\",\"compare_url\":\"https://api.github.com/repos/TankGuHan/websocket-sharp-unity/compare/{base}...{head}\",\"merges_url\":\"https://api.github.com/repos/TankGuHan/websocket-sharp-unity/merges\",\"archive_url\":\"https://api.github.com/repos/TankGuHan/websocket-sharp-unity/{archive_format}{/ref}\",\"downloads_url\":\"https://api.github.com/repos/TankGuHan/websocket-sharp-unity/downloads\",\"issues_url\":\"https://api.github.com/repos/TankGuHan/websocket-sharp-unity/issues{/number}\",\"pulls_url\":\"https://api.github.com/repos/TankGuHan/websocket-sharp-unity/pulls{/number}\",\"milestones_url\":\"https://api.github.com/repos/TankGuHan/websocket-sharp-unity/milestones{/number}\",\"notifications_url\":\"https://api.github.com/repos/TankGuHan/websocket-sharp-unity/notifications{?since,all,participating}\",\"labels_url\":\"https://api.github.com/repos/TankGuHan/websocket-sharp-unity/labels{/name}\",\"releases_url\":\"https://api.github.com/repos/TankGuHan/websocket-sharp-unity/releases{/id}\",\"deployments_url\":\"https://api.github.com/repos/TankGuHan/websocket-sharp-unity/deployments\",\"created_at\":\"2025-07-10T07:44:25Z\",\"updated_at\":\"2025-07-10T07:44:25Z\",\"pushed_at\":\"2014-08-14T10:21:12Z\",\"git_url\":\"git://github.com/TankGuHan/websocket-sharp-unity.git\",\"ssh_url\":\"git@github.com:TankGuHan/websocket-sharp-unity.git\",\"clone_url\":\"https://github.com/TankGuHan/websocket-sharp-unity.git\",\"svn_url\":\"https://github.com/TankGuHan/websocket-sharp-unity\",\"homepage\":\"http://sta.github.io/websocket-sharp-unity\",\"size\":12841,\"stargazers_count\":0,\"watchers_count\":0,\"language\":null,\"has_issues\":false,\"has_projects\":true,\"has_downloads\":true,\"has_wiki\":true,\"has_pages\":false,\"has_discussions\":false,\"forks_count\":0,\"mirror_url\":null,\"archived\":false,\"disabled\":false,\"open_issues_count\":0,\"license\":null,\"allow_forking\":true,\"is_template\":false,\"web_commit_signoff_required\":false,\"topics\":[],\"visibility\":\"public\",\"forks\":0,\"open_issues\":0,\"watchers\":0,\"default_branch\":\"main\",\"public\":true}},\"public\":true,\"created_at\":\"2025-07-10T07:44:26Z\"},{\"id\":\"51913656031\",\"type\":\"PushEvent\",\"actor\":{\"id\":92620716,\"login\":\"HesamedinJ\",\"display_login\":\"HesamedinJ\",\"gravatar_id\":\"\",\"url\":\"https://api.github.com/users/HesamedinJ\",\"avatar_url\":\"https://avatars.githubusercontent.com/u/92620716?\"},\"repo\":{\"id\":1017204726,\"name\":\"HesamedinJ/shadow-me-360-core\",\"url\":\"https://api.github.com/repos/HesamedinJ/shadow-me-360-core\"},\"payload\":{\"repository_id\":1017204726,\"push_id\":25407907237,\"size\":1,\"distinct_size\":1,\"ref\":\"refs/heads/main\",\"head\":\"b95a12f86e5a6a61cb156223731e08b7cb639397\",\"before\":\"2caa4c3855d735297a244b6efd669fa1ac2c930e\",\"commits\":[{\"sha\":\"b95a12f86e5a6a61cb156223731e08b7cb639397\",\"author\":{\"email\":\"92620716+HesamedinJ@users.noreply.github.com\",\"name\":\"HesamedinJ\"},\"message\":\"💾 '\n",
      " 'Add simple localStorage '\n",
      " 'handler\",\"distinct\":true,\"url\":\"https://api.github.com/repos/HesamedinJ/shadow-me-360-core/commits/b95a12f86e5a6a61cb156223731e08b7cb639397\"}]},\"public\":true,\"created_at\":\"2025-07-10T07:44:26Z\"},{\"id\":\"51913656013\",\"type\":\"CreateEvent\",\"actor\":{\"id\":196606498,\"login\":\"hemareddy894\",\"display_login\":\"hemareddy894\",\"gravatar_id\":\"\",\"url\":\"https://api.github.com/users/hemareddy894\",\"avatar_url\":\"https://avatars.githubusercontent.com/u/196606498?\"},\"repo\":{\"id\":1017215127,\"name\":\"hemareddy894/EliteTech_task4_CloudSecurity\",\"url\":\"https://api.github.com/repos/hemareddy894/EliteTech_task4_CloudSecurity\"},\"payload\":{\"ref\":\"main\",\"ref_type\":\"branch\",\"master_branch\":\"main\",\"description\":\"Task '\n",
      " '4- Cloud Security Implementation on '\n",
      " 'AWS\",\"pusher_type\":\"user\"},\"public\":true,\"created_at\":\"2025-07-10T07:44:26Z\"},{\"id\":\"51913656018\",\"type\":\"CreateEvent\",\"actor\":{\"id\":66066459,\"login\":\"mohamadddd1998\",\"display_login\":\"mohamadddd1998\",\"gravatar_id\":\"\",\"url\":\"https://api.github.com/users/mohamadddd1998\",\"avatar_url\":\"https://avatars.githubusercontent.com/u/66066459?\"},\"repo\":{\"id\":1017213787,\"name\":\"mohamadddd1998/bd-box-front\",\"url\":\"https://api.github.com/repos/mohamadddd1998/bd-box-front\"},\"payload\":{\"ref\":\"master\",\"ref_type\":\"branch\",\"master_branch\":\"master\",\"description\":null,\"pusher_type\":\"user\"},\"public\":true,\"created_at\":\"2025-07-10T07:44:26Z\"},{\"id\":\"51913656020\",\"type\":\"PushEvent\",\"actor\":{\"id\":115092755,\"login\":\"Syahdan24-Danz\",\"display_login\":\"Syahdan24-Danz\",\"gravatar_id\":\"\",\"url\":\"https://api.github.com/users/Syahdan24-Danz\",\"avatar_url\":\"https://avatars.githubusercontent.com/u/115092755?\"},\"repo\":{\"id\":1017185365,\"name\":\"Syahdan24-Danz/hgl_images\",\"url\":\"https://api.github.com/repos/Syahdan24-Danz/hgl_images\"},\"payload\":{\"repository_id\":1017185365,\"push_id\":25407907254,\"size\":1,\"distinct_size\":1,\"ref\":\"refs/heads/main\",\"head\":\"cc1402693e1eec5789f956c45b21653ebd31f61e\",\"before\":\"5735e7e4f65a526fb8b2446f6b23ed3a03128830\",\"commits\":[{\"sha\":\"cc1402693e1eec5789f956c45b21653ebd31f61e\",\"author\":{\"email\":\"115092755+Syahdan24-Danz@users.noreply.github.com\",\"name\":\"Syahdan24-Danz\"},\"message\":\"Delete '\n",
      " 'All '\n",
      " 'items.png\",\"distinct\":true,\"url\":\"https://api.github.com/repos/Syahdan24-Danz/hgl_images/commits/cc1402693e1eec5789f956c45b21653ebd31f61e\"}]},\"public\":true,\"created_at\":\"2025-07-10T07:44:26Z\"},{\"id\":\"51913655999\",\"type\":\"PushEvent\",\"actor\":{\"id\":172839195,\"login\":\"Germes245\",\"display_login\":\"Germes245\",\"gravatar_id\":\"\",\"url\":\"https://api.github.com/users/Germes245\",\"avatar_url\":\"https://avatars.githubusercontent.com/u/172839195?\"},\"repo\":{\"id\":1011696434,\"name\":\"Germes245/sushi-box\",\"url\":\"https://api.github.com/repos/Germes245/sushi-box\"},\"payload\":{\"repository_id\":1011696434,\"push_id\":25407907088,\"size\":1,\"distinct_size\":1,\"ref\":\"refs/heads/main\",\"head\":\"88cc442e763f9e421aa6bbc92ed11a81137b48a8\",\"before\":\"e3f02a2281b3e2e6b742bcbfda5ed628c56013d2\",\"commits\":[{\"sha\":\"88cc442e763f9e421aa6bbc92ed11a81137b48a8\",\"author\":{\"email\":\"dan119@bk.ru\",\"name\":\"artem\"},\"message\":\"aa\",\"distinct\":true,\"url\":\"https://api.github.com/repos/Germes245/sushi-box/commits/88cc442e763f9e421aa6bbc92ed11a81137b48a8\"}]},\"public\":true,\"created_at\":\"2025-07-10T07:44:26Z\"},{\"id\":\"51913655995\",\"type\":\"PushEvent\",\"actor\":{\"id\":134059913,\"login\":\"L4tifa\",\"display_login\":\"L4tifa\",\"gravatar_id\":\"\",\"url\":\"https://api.github.com/users/L4tifa\",\"avatar_url\":\"https://avatars.githubusercontent.com/u/134059913?\"},\"repo\":{\"id\":716527723,\"name\":\"L4tifa/pribadii\",\"url\":\"https://api.github.com/repos/L4tifa/pribadii\"},\"payload\":{\"repository_id\":716527723,\"push_id\":25407907094,\"size\":1,\"distinct_size\":1,\"ref\":\"refs/heads/main\",\"head\":\"8ced6c835539964c322fed5936bd66859759c717\",\"before\":\"debb810e72bc5e6aabcdce632914e3966a415c9d\",\"commits\":[{\"sha\":\"8ced6c835539964c322fed5936bd66859759c717\",\"author\":{\"email\":\"134059913+L4tifa@users.noreply.github.com\",\"name\":\"L4tifa\"},\"message\":\"Update '\n",
      " 'sessions at 10-07-2025, '\n",
      " '14.44.23\",\"distinct\":true,\"url\":\"https://api.github.com/repos/L4tifa/pribadii/commits/8ced6c835539964c322fed5936bd66859759c717\"}]},\"public\":true,\"created_at\":\"2025-07-10T07:44:26Z\"},{\"id\":\"51913656004\",\"type\":\"PushEvent\",\"actor\":{\"id\":120649736,\"login\":\"Absadiq05\",\"display_login\":\"Absadiq05\",\"gravatar_id\":\"\",\"url\":\"https://api.github.com/users/Absadiq05\",\"avatar_url\":\"https://avatars.githubusercontent.com/u/120649736?\"},\"repo\":{\"id\":1017213025,\"name\":\"Absadiq05/Movie-platform-\",\"url\":\"https://api.github.com/repos/Absadiq05/Movie-platform-\"},\"payload\":{\"repository_id\":1017213025,\"push_id\":25407907193,\"size\":1,\"distinct_size\":1,\"ref\":\"refs/heads/main\",\"head\":\"df405ba3221382299bbe647cc3fb399675f5c391\",\"before\":\"05e1a46dd33576bd9b93bc51f45eebe289312730\",\"commits\":[{\"sha\":\"df405ba3221382299bbe647cc3fb399675f5c391\",\"author\":{\"email\":\"120649736+Absadiq05@users.noreply.github.com\",\"name\":\"Absadiq94\"},\"message\":\"Create '\n",
      " 'User.js\",\"distinct\":true,\"url\":\"https://api.github.com/repos/Absadiq05/Movie-platform-/commits/df405ba3221382299bbe647cc3fb399675f5c391\"}]},\"public\":true,\"created_at\":\"2025-07-10T07:44:26Z\"},{\"id\":\"51913656005\",\"type\":\"WatchEvent\",\"actor\":{\"id\":163151017,\"login\":\"JeanPaulAdant\",\"display_login\":\"JeanPaulAdant\",\"gravatar_id\":\"\",\"url\":\"https://api.github.com/users/JeanPaulAdant\",\"avatar_url\":\"https://avatars.githubusercontent.com/u/163151017?\"},\"repo\":{\"id\":760504786,\"name\":\"cleverbase/scal3\",\"url\":\"https://api.github.com/repos/cleverbase/scal3\"},\"payload\":{\"action\":\"started\"},\"public\":true,\"created_at\":\"2025-07-10T07:44:26Z\",\"org\":{\"id\":22912242,\"login\":\"cleverbase\",\"gravatar_id\":\"\",\"url\":\"https://api.github.com/orgs/cleverbase\",\"avatar_url\":\"https://avatars.githubusercontent.com/u/22912242?\"}},{\"id\":\"51913655993\",\"type\":\"PushEvent\",\"actor\":{\"id\":29139614,\"login\":\"renovate[bot]\",\"display_login\":\"renovate\",\"gravatar_id\":\"\",\"url\":\"https://api.github.com/users/renovate[bot]\",\"avatar_url\":\"https://avatars.githubusercontent.com/u/29139614?\"},\"repo\":{\"id\":375935360,\"name\":\"ChristianLempa/boilerplates\",\"url\":\"https://api.github.com/repos/ChristianLempa/boilerplates\"},\"payload\":{\"repository_id\":375935360,\"push_id\":25407907122,\"size\":5,\"distinct_size\":1,\"ref\":\"refs/heads/renovate/public.ecr.aws-gravitational-teleport-distroless-18.x\",\"head\":\"8c7e0808f088b805cdd5540ed48ff1340b93c97d\",\"before\":\"51c630658a93f590faa74e47954d5b8792616dbb\",\"commits\":[{\"sha\":\"5b97da4599f218f147f82f7b6b5f58ec981fcff5\",\"author\":{\"email\":\"29139614+renovate[bot]@users.noreply.github.com\",\"name\":\"renovate[bot]\"},\"message\":\"chore(deps): '\n",
      " 'update longhornio/csi-resizer docker tag to '\n",
      " 'v1.14.0\",\"distinct\":false,\"url\":\"https://api.github.com/repos/ChristianLempa/boilerplates/commits/5b97da4599f218f147f82f7b6b5f58ec981fcff5\"},{\"sha\":\"db7dddc1a646625bf6f56fa06d85844eb07aac4e\",\"author\":{\"email\":\"29139614+renovate[bot]@users.noreply.github.com\",\"name\":\"renovate[bot]\"},\"message\":\"chore(deps): '\n",
      " 'update longhornio/csi-snapshotter docker tag to '\n",
      " 'v8.3.0\",\"distinct\":false,\"url\":\"https://api.github.com/repos/ChristianLempa/boilerplates/commits/db7dddc1a646625bf6f56fa06d85844eb07aac4e\"},{\"sha\":\"4d1bd6f9ec03b147842a2764b00f8ec814ab42b0\",\"author\":{\"email\":\"christian.lempa@clcreative.de\",\"name\":\"Christian '\n",
      " 'Lempa\"},\"message\":\"Merge pull request #1090 from '\n",
      " 'ChristianLempa/renovate/longhornio-csi-snapshotter-8.x\\\\n\\\\nchore(deps): '\n",
      " 'update longhornio/csi-snapshotter docker tag to '\n",
      " 'v8.3.0\",\"distinct\":false,\"url\":\"https://api.github.com/repos/ChristianLempa/boilerplates/commits/4d1bd6f9ec03b147842a2764b00f8ec814ab42b0\"},{\"sha\":\"b1263a85050cdde95f0b57131a915c368aff84d0\",\"author\":{\"email\":\"christian.lempa@clcreative.de\",\"name\":\"Christian '\n",
      " 'Lempa\"},\"message\":\"Merge pull request #1089 from '\n",
      " 'ChristianLempa/renovate/longhornio-csi-resizer-1.x\\\\n\\\\nchore(deps): update '\n",
      " 'longhornio/csi-resizer docker tag to '\n",
      " 'v1.14.0\",\"distinct\":false,\"url\":\"https://api.github.com/repos/ChristianLempa/boilerplates/commits/b1263a85050cdde95f0b57131a915c368aff84d0\"},{\"sha\":\"8c7e0808f088b805cdd5540ed48ff1340b93c97d\",\"author\":{\"email\":\"29139614+renovate[bot]@users.noreply.github.com\",\"name\":\"renovate[bot]\"},\"message\":\"chore(deps): '\n",
      " 'update public.ecr.aws/gravitational/teleport-distroless docker tag to '\n",
      " 'v18\",\"distinct\":true,\"url\":\"https://api.github.com/repos/ChristianLempa/boilerplates/commits/8c7e0808f088b805cdd5540ed48ff1340b93c97d\"}]},\"public\":true,\"created_at\":\"2025-07-10T07:44:26Z\"},{\"id\":\"51913655991\",\"type\":\"PushEvent\",\"actor\":{\"id\":168227068,\"login\":\"metracommuter\",\"display_login\":\"metracommuter\",\"gravatar_id\":\"\",\"url\":\"https://api.github.com/users/metracommuter\",\"avatar_url\":\"https://avatars.githubusercontent.com/u/168227068?\"},\"repo\":{\"id\":792524092,\"name\":\"metracommuter/metracommuter.github.io\",\"url\":\"https://api.github.com/repos/metracommuter/metracommuter.github.io\"},\"payload\":{\"repository_id\":792524092,\"push_id\":25407907117,\"size\":1,\"distinct_size\":1,\"ref\":\"refs/heads/main\",\"head\":\"802c5c7f60d11b59998f1209d73848d275ea4f78\",\"before\":\"d8cd244ba4d0a7a57d902c9d5a6932cb4cae3a66\",\"commits\":[{\"sha\":\"802c5c7f60d11b59998f1209d73848d275ea4f78\",\"author\":{\"email\":\"168227068+metracommuter@users.noreply.github.com\",\"name\":\"metracommuter\"},\"message\":\"Automatic '\n",
      " 'update to payload - Published 07/03/25 02:20:04 AM '\n",
      " 'America/Chicago\",\"distinct\":true,\"url\":\"https://api.github.com/repos/metracommuter/metracommuter.github.io/commits/802c5c7f60d11b59998f1209d73848d275ea4f78\"}]},\"public\":true,\"created_at\":\"2025-07-10T07:44:26Z\"},{\"id\":\"51913655969\",\"type\":\"WatchEvent\",\"actor\":{\"id\":20687592,\"login\":\"florianbellmann\",\"display_login\":\"florianbellmann\",\"gravatar_id\":\"\",\"url\":\"https://api.github.com/users/florianbellmann\",\"avatar_url\":\"https://avatars.githubusercontent.com/u/20687592?\"},\"repo\":{\"id\":969302809,\"name\":\"hesreallyhim/awesome-claude-code\",\"url\":\"https://api.github.com/repos/hesreallyhim/awesome-claude-code\"},\"payload\":{\"action\":\"started\"},\"public\":true,\"created_at\":\"2025-07-10T07:44:26Z\"},{\"id\":\"51913655988\",\"type\":\"PushEvent\",\"actor\":{\"id\":88153313,\"login\":\"YuriiStepaniuk\",\"display_login\":\"YuriiStepaniuk\",\"gravatar_id\":\"\",\"url\":\"https://api.github.com/users/YuriiStepaniuk\",\"avatar_url\":\"https://avatars.githubusercontent.com/u/88153313?\"},\"repo\":{\"id\":1016259082,\"name\":\"YuriiStepaniuk/weather-app\",\"url\":\"https://api.github.com/repos/YuriiStepaniuk/weather-app\"},\"payload\":{\"repository_id\":1016259082,\"push_id\":25407907080,\"size\":1,\"distinct_size\":1,\"ref\":\"refs/heads/main\",\"head\":\"60b6c3e148e9955a6882173a6a57b17bee43994d\",\"before\":\"4ad7e1007e4037659d1e12088128c8af060934fd\",\"commits\":[{\"sha\":\"60b6c3e148e9955a6882173a6a57b17bee43994d\",\"author\":{\"email\":\"stepanuk.ura2001@gmail.com\",\"name\":\"Yurii\"},\"message\":\"Setup '\n",
      " 'for '\n",
      " 'netlify\",\"distinct\":true,\"url\":\"https://api.github.com/repos/YuriiStepaniuk/weather-app/commits/60b6c3e148e9955a6882173a6a57b17bee43994d\"}]},\"public\":true,\"created_at\":\"2025-07-10T07:44:26Z\"},{\"id\":\"51913655968\",\"type\":\"PushEvent\",\"actor\":{\"id\":76246754,\"login\":\"phyulwin\",\"display_login\":\"phyulwin\",\"gravatar_id\":\"\",\"url\":\"https://api.github.com/users/phyulwin\",\"avatar_url\":\"https://avatars.githubusercontent.com/u/76246754?\"},\"repo\":{\"id\":427186966,\"name\":\"phyulwin/phyulwin\",\"url\":\"https://api.github.com/repos/phyulwin/phyulwin\"},\"payload\":{\"repository_id\":427186966,\"push_id\":25407907135,\"size\":1,\"distinct_size\":1,\"ref\":\"refs/heads/main\",\"head\":\"94f6cd056d390afc1ff459f75d1aec4e102bdbee\",\"before\":\"62cf247ca8d32487cf48f478f9d6385eed9aa0ce\",\"commits\":[{\"sha\":\"94f6cd056d390afc1ff459f75d1aec4e102bdbee\",\"author\":{\"email\":\"phyulwin73929@gmail.com\",\"name\":\"Phyu '\n",
      " 'Hnin Lwin (Kelly)\"},\"message\":\"Update '\n",
      " 'README.md\",\"distinct\":true,\"url\":\"https://api.github.com/repos/phyulwin/phyulwin/commits/94f6cd056d390afc1ff459f75d1aec4e102bdbee\"}]},\"public\":true,\"created_at\":\"2025-07-10T07:44:26Z\"},{\"id\":\"51913655947\",\"type\":\"PushEvent\",\"actor\":{\"id\":1224790,\"login\":\"b3b00\",\"display_login\":\"b3b00\",\"gravatar_id\":\"\",\"url\":\"https://api.github.com/users/b3b00\",\"avatar_url\":\"https://avatars.githubusercontent.com/u/1224790?\"},\"repo\":{\"id\":518439052,\"name\":\"b3b00/dendronNotes\",\"url\":\"https://api.github.com/repos/b3b00/dendronNotes\"},\"payload\":{\"repository_id\":518439052,\"push_id\":25407907139,\"size\":1,\"distinct_size\":1,\"ref\":\"refs/heads/main\",\"head\":\"8f798e5b76827785a9d4f6f641195d43c24e63c7\",\"before\":\"20a71bde269c1f4df883d76d39a1f6567f99bd8e\",\"commits\":[{\"sha\":\"8f798e5b76827785a9d4f6f641195d43c24e63c7\",\"author\":{\"email\":\"1224790+b3b00@users.noreply.github.com\",\"name\":\"Olivier '\n",
      " 'Duhart\"},\"message\":\"DendrOnline : new note : '\n",
      " 'Perso.archlinux\",\"distinct\":true,\"url\":\"https://api.github.com/repos/b3b00/dendronNotes/commits/8f798e5b76827785a9d4f6f641195d43c24e63c7\"}]},\"public\":true,\"created_at\":\"2025-07-10T07:44:26Z\"},{\"id\":\"51913655946\",\"type\":\"PushEvent\",\"actor\":{\"id\":178533399,\"login\":\"getmoneyk\",\"display_login\":\"getmoneyk\",\"gravatar_id\":\"\",\"url\":\"https://api.github.com/users/getmoneyk\",\"avatar_url\":\"https://avatars.githubusercontent.com/u/178533399?\"},\"repo\":{\"id\":843463545,\"name\":\"getmoneyk/namef\",\"url\":\"https://api.github.com/repos/getmoneyk/namef\"},\"payload\":{\"repository_id\":843463545,\"push_id\":25407907097,\"size\":1,\"distinct_size\":1,\"ref\":\"refs/heads/main\",\"head\":\"7e9e21631f30adf16ad2cdd7cfc3ebb13460cb07\",\"before\":\"5b2851603a74006f4d11bddda95782bb9b393004\",\"commits\":[{\"sha\":\"7e9e21631f30adf16ad2cdd7cfc3ebb13460cb07\",\"author\":{\"email\":\"17129280436@139.com\",\"name\":\"getmoneyk\"},\"message\":\"Create '\n",
      " 'h68.html\",\"distinct\":true,\"url\":\"https://api.github.com/repos/getmoneyk/namef/commits/7e9e21631f30adf16ad2cdd7cfc3ebb13460cb07\"}]},\"public\":true,\"created_at\":\"2025-07-10T07:44:26Z\"},{\"id\":\"51913655928\",\"type\":\"PushEvent\",\"actor\":{\"id\":171559546,\"login\":\"rprasquier-pass\",\"display_login\":\"rprasquier-pass\",\"gravatar_id\":\"\",\"url\":\"https://api.github.com/users/rprasquier-pass\",\"avatar_url\":\"https://avatars.githubusercontent.com/u/171559546?\"},\"repo\":{\"id\":116685058,\"name\":\"pass-culture/pass-culture-main\",\"url\":\"https://api.github.com/repos/pass-culture/pass-culture-main\"},\"payload\":{\"repository_id\":116685058,\"push_id\":25407907145,\"size\":1,\"distinct_size\":1,\"ref\":\"refs/heads/bsr-remove-base-query\",\"head\":\"4f6ce2ccbb677e5e0e9d9049379bcbc5dbc9c03a\",\"before\":\"507260423792b52dd50cdc88f91ab89c48b2cca1\",\"commits\":[{\"sha\":\"4f6ce2ccbb677e5e0e9d9049379bcbc5dbc9c03a\",\"author\":{\"email\":\"171559546+rprasquier-pass@users.noreply.github.com\",\"name\":\"Raphael '\n",
      " 'Prasquier\"},\"message\":\"(BSR)[API] style: Replace get_or_404/first_or_404 on '\n",
      " 'query to util '\n",
      " 'method\",\"distinct\":true,\"url\":\"https://api.github.com/repos/pass-culture/pass-culture-main/commits/4f6ce2ccbb677e5e0e9d9049379bcbc5dbc9c03a\"}]},\"public\":true,\"created_at\":\"2025-07-10T07:44:26Z\",\"org\":{\"id\":52448870,\"login\":\"pass-culture\",\"gravatar_id\":\"\",\"url\":\"https://api.github.com/orgs/pass-culture\",\"avatar_url\":\"https://avatars.githubusercontent.com/u/52448870?\"}}]')\n"
     ]
    }
   ],
   "source": [
    "import requests\n",
    "from pprint import pprint\n",
    "\n",
    "r=requests.get('https://api.github.com/events')\n",
    "if r.status_code==200:\n",
    "    print(\"下載成功\")\n",
    "    pprint(r.text)\n",
    "else:\n",
    "    print(\"下載失敗\")\n"
   ]
  },
  {
   "cell_type": "code",
   "execution_count": 20,
   "id": "9500e6d4",
   "metadata": {},
   "outputs": [
    {
     "name": "stdout",
     "output_type": "stream",
     "text": [
      "你已成年，可以投票!\n"
     ]
    }
   ],
   "source": [
    "age=18\n",
    "\n",
    "if age>=18:\n",
    "    print(\"你已成年，可以投票!\")\n",
    "    \n"
   ]
  }
 ],
 "metadata": {
  "kernelspec": {
   "display_name": "web_crawler",
   "language": "python",
   "name": "python3"
  },
  "language_info": {
   "codemirror_mode": {
    "name": "ipython",
    "version": 3
   },
   "file_extension": ".py",
   "mimetype": "text/x-python",
   "name": "python",
   "nbconvert_exporter": "python",
   "pygments_lexer": "ipython3",
   "version": "3.11.13"
  }
 },
 "nbformat": 4,
 "nbformat_minor": 5
}
