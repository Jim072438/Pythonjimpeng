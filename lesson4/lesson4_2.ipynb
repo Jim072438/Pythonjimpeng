{
 "cells": [
  {
   "cell_type": "code",
   "execution_count": 1,
   "id": "13a0b127",
   "metadata": {},
   "outputs": [
    {
     "name": "stdout",
     "output_type": "stream",
     "text": [
      "開始任務 1\n",
      "任務 1 完成\n",
      "開始任務 2\n",
      "任務 2 完成\n",
      "總耗時: 3.00 秒\n"
     ]
    }
   ],
   "source": [
    "import time\n",
    "\n",
    "def task(id, delay):\n",
    "    print(f\"開始任務 {id}\")\n",
    "    time.sleep(delay)\n",
    "    print(f\"任務 {id} 完成\")\n",
    "\n",
    "start = time.time()\n",
    "task(1, 1)\n",
    "task(2, 2)\n",
    "print(f\"總耗時: {time.time() - start:.2f} 秒\")"
   ]
  }
 ],
 "metadata": {
  "kernelspec": {
   "display_name": "web_crawler",
   "language": "python",
   "name": "python3"
  },
  "language_info": {
   "codemirror_mode": {
    "name": "ipython",
    "version": 3
   },
   "file_extension": ".py",
   "mimetype": "text/x-python",
   "name": "python",
   "nbconvert_exporter": "python",
   "pygments_lexer": "ipython3",
   "version": "3.11.13"
  }
 },
 "nbformat": 4,
 "nbformat_minor": 5
}
